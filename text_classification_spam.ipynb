{
  "cells": [
    {
      "cell_type": "markdown",
      "source": [
        "#Import Libraries"
      ],
      "metadata": {
        "id": "MSL60PjDcXGg"
      },
      "id": "MSL60PjDcXGg"
    },
    {
      "cell_type": "code",
      "source": [
        "import pandas as pd\n",
        "\n",
        "from spacy.util import minibatch\n",
        "from spacy.training.example import Example\n",
        "\n",
        "import random"
      ],
      "metadata": {
        "id": "HXW1iH5XcJPr"
      },
      "id": "HXW1iH5XcJPr",
      "execution_count": null,
      "outputs": []
    },
    {
      "cell_type": "markdown",
      "id": "c604170a",
      "metadata": {
        "papermill": {
          "duration": 0.015951,
          "end_time": "2021-11-09T00:09:34.522659",
          "exception": false,
          "start_time": "2021-11-09T00:09:34.506708",
          "status": "completed"
        },
        "tags": [],
        "id": "c604170a"
      },
      "source": [
        "# Load data\n",
        "\n",
        "Data to be predicted on can be adapted to include spam detection, sentiment analysis, tagging customer queries, etc."
      ]
    },
    {
      "cell_type": "code",
      "execution_count": null,
      "id": "799a3d4a",
      "metadata": {
        "execution": {
          "iopub.execute_input": "2021-11-09T00:09:34.560082Z",
          "iopub.status.busy": "2021-11-09T00:09:34.559101Z",
          "iopub.status.idle": "2021-11-09T00:09:34.621970Z",
          "shell.execute_reply": "2021-11-09T00:09:34.622502Z"
        },
        "papermill": {
          "duration": 0.085805,
          "end_time": "2021-11-09T00:09:34.622786",
          "exception": false,
          "start_time": "2021-11-09T00:09:34.536981",
          "status": "completed"
        },
        "tags": [],
        "id": "799a3d4a"
      },
      "outputs": [],
      "source": [
        "# Loading spam data\n",
        "# ham is the label for non-spam messages\n",
        "\n",
        "spam = pd.read_csv('/content/spam.csv', encoding=\"ISO-8859-1\")"
      ]
    },
    {
      "cell_type": "code",
      "source": [
        "df = spam[['v1', 'v2']].copy()\n",
        "df = df.rename(columns={'v1':'label', 'v2':'text'})\n",
        "df.head(5)"
      ],
      "metadata": {
        "colab": {
          "base_uri": "https://localhost:8080/",
          "height": 206
        },
        "id": "kYRqzKyCG5pC",
        "outputId": "eb05a814-8ab2-4871-e9e8-d686580372d8"
      },
      "id": "kYRqzKyCG5pC",
      "execution_count": null,
      "outputs": [
        {
          "output_type": "execute_result",
          "data": {
            "text/plain": [
              "  label                                               text\n",
              "0   ham  Go until jurong point, crazy.. Available only ...\n",
              "1   ham                      Ok lar... Joking wif u oni...\n",
              "2  spam  Free entry in 2 a wkly comp to win FA Cup fina...\n",
              "3   ham  U dun say so early hor... U c already then say...\n",
              "4   ham  Nah I don't think he goes to usf, he lives aro..."
            ],
            "text/html": [
              "\n",
              "  <div id=\"df-12666c2e-b977-4ba0-a553-e623a6e17651\" class=\"colab-df-container\">\n",
              "    <div>\n",
              "<style scoped>\n",
              "    .dataframe tbody tr th:only-of-type {\n",
              "        vertical-align: middle;\n",
              "    }\n",
              "\n",
              "    .dataframe tbody tr th {\n",
              "        vertical-align: top;\n",
              "    }\n",
              "\n",
              "    .dataframe thead th {\n",
              "        text-align: right;\n",
              "    }\n",
              "</style>\n",
              "<table border=\"1\" class=\"dataframe\">\n",
              "  <thead>\n",
              "    <tr style=\"text-align: right;\">\n",
              "      <th></th>\n",
              "      <th>label</th>\n",
              "      <th>text</th>\n",
              "    </tr>\n",
              "  </thead>\n",
              "  <tbody>\n",
              "    <tr>\n",
              "      <th>0</th>\n",
              "      <td>ham</td>\n",
              "      <td>Go until jurong point, crazy.. Available only ...</td>\n",
              "    </tr>\n",
              "    <tr>\n",
              "      <th>1</th>\n",
              "      <td>ham</td>\n",
              "      <td>Ok lar... Joking wif u oni...</td>\n",
              "    </tr>\n",
              "    <tr>\n",
              "      <th>2</th>\n",
              "      <td>spam</td>\n",
              "      <td>Free entry in 2 a wkly comp to win FA Cup fina...</td>\n",
              "    </tr>\n",
              "    <tr>\n",
              "      <th>3</th>\n",
              "      <td>ham</td>\n",
              "      <td>U dun say so early hor... U c already then say...</td>\n",
              "    </tr>\n",
              "    <tr>\n",
              "      <th>4</th>\n",
              "      <td>ham</td>\n",
              "      <td>Nah I don't think he goes to usf, he lives aro...</td>\n",
              "    </tr>\n",
              "  </tbody>\n",
              "</table>\n",
              "</div>\n",
              "    <div class=\"colab-df-buttons\">\n",
              "\n",
              "  <div class=\"colab-df-container\">\n",
              "    <button class=\"colab-df-convert\" onclick=\"convertToInteractive('df-12666c2e-b977-4ba0-a553-e623a6e17651')\"\n",
              "            title=\"Convert this dataframe to an interactive table.\"\n",
              "            style=\"display:none;\">\n",
              "\n",
              "  <svg xmlns=\"http://www.w3.org/2000/svg\" height=\"24px\" viewBox=\"0 -960 960 960\">\n",
              "    <path d=\"M120-120v-720h720v720H120Zm60-500h600v-160H180v160Zm220 220h160v-160H400v160Zm0 220h160v-160H400v160ZM180-400h160v-160H180v160Zm440 0h160v-160H620v160ZM180-180h160v-160H180v160Zm440 0h160v-160H620v160Z\"/>\n",
              "  </svg>\n",
              "    </button>\n",
              "\n",
              "  <style>\n",
              "    .colab-df-container {\n",
              "      display:flex;\n",
              "      gap: 12px;\n",
              "    }\n",
              "\n",
              "    .colab-df-convert {\n",
              "      background-color: #E8F0FE;\n",
              "      border: none;\n",
              "      border-radius: 50%;\n",
              "      cursor: pointer;\n",
              "      display: none;\n",
              "      fill: #1967D2;\n",
              "      height: 32px;\n",
              "      padding: 0 0 0 0;\n",
              "      width: 32px;\n",
              "    }\n",
              "\n",
              "    .colab-df-convert:hover {\n",
              "      background-color: #E2EBFA;\n",
              "      box-shadow: 0px 1px 2px rgba(60, 64, 67, 0.3), 0px 1px 3px 1px rgba(60, 64, 67, 0.15);\n",
              "      fill: #174EA6;\n",
              "    }\n",
              "\n",
              "    .colab-df-buttons div {\n",
              "      margin-bottom: 4px;\n",
              "    }\n",
              "\n",
              "    [theme=dark] .colab-df-convert {\n",
              "      background-color: #3B4455;\n",
              "      fill: #D2E3FC;\n",
              "    }\n",
              "\n",
              "    [theme=dark] .colab-df-convert:hover {\n",
              "      background-color: #434B5C;\n",
              "      box-shadow: 0px 1px 3px 1px rgba(0, 0, 0, 0.15);\n",
              "      filter: drop-shadow(0px 1px 2px rgba(0, 0, 0, 0.3));\n",
              "      fill: #FFFFFF;\n",
              "    }\n",
              "  </style>\n",
              "\n",
              "    <script>\n",
              "      const buttonEl =\n",
              "        document.querySelector('#df-12666c2e-b977-4ba0-a553-e623a6e17651 button.colab-df-convert');\n",
              "      buttonEl.style.display =\n",
              "        google.colab.kernel.accessAllowed ? 'block' : 'none';\n",
              "\n",
              "      async function convertToInteractive(key) {\n",
              "        const element = document.querySelector('#df-12666c2e-b977-4ba0-a553-e623a6e17651');\n",
              "        const dataTable =\n",
              "          await google.colab.kernel.invokeFunction('convertToInteractive',\n",
              "                                                    [key], {});\n",
              "        if (!dataTable) return;\n",
              "\n",
              "        const docLinkHtml = 'Like what you see? Visit the ' +\n",
              "          '<a target=\"_blank\" href=https://colab.research.google.com/notebooks/data_table.ipynb>data table notebook</a>'\n",
              "          + ' to learn more about interactive tables.';\n",
              "        element.innerHTML = '';\n",
              "        dataTable['output_type'] = 'display_data';\n",
              "        await google.colab.output.renderOutput(dataTable, element);\n",
              "        const docLink = document.createElement('div');\n",
              "        docLink.innerHTML = docLinkHtml;\n",
              "        element.appendChild(docLink);\n",
              "      }\n",
              "    </script>\n",
              "  </div>\n",
              "\n",
              "\n",
              "<div id=\"df-bdb885f6-c6d3-4ecc-aee9-c19002b00c70\">\n",
              "  <button class=\"colab-df-quickchart\" onclick=\"quickchart('df-bdb885f6-c6d3-4ecc-aee9-c19002b00c70')\"\n",
              "            title=\"Suggest charts.\"\n",
              "            style=\"display:none;\">\n",
              "\n",
              "<svg xmlns=\"http://www.w3.org/2000/svg\" height=\"24px\"viewBox=\"0 0 24 24\"\n",
              "     width=\"24px\">\n",
              "    <g>\n",
              "        <path d=\"M19 3H5c-1.1 0-2 .9-2 2v14c0 1.1.9 2 2 2h14c1.1 0 2-.9 2-2V5c0-1.1-.9-2-2-2zM9 17H7v-7h2v7zm4 0h-2V7h2v10zm4 0h-2v-4h2v4z\"/>\n",
              "    </g>\n",
              "</svg>\n",
              "  </button>\n",
              "\n",
              "<style>\n",
              "  .colab-df-quickchart {\n",
              "      --bg-color: #E8F0FE;\n",
              "      --fill-color: #1967D2;\n",
              "      --hover-bg-color: #E2EBFA;\n",
              "      --hover-fill-color: #174EA6;\n",
              "      --disabled-fill-color: #AAA;\n",
              "      --disabled-bg-color: #DDD;\n",
              "  }\n",
              "\n",
              "  [theme=dark] .colab-df-quickchart {\n",
              "      --bg-color: #3B4455;\n",
              "      --fill-color: #D2E3FC;\n",
              "      --hover-bg-color: #434B5C;\n",
              "      --hover-fill-color: #FFFFFF;\n",
              "      --disabled-bg-color: #3B4455;\n",
              "      --disabled-fill-color: #666;\n",
              "  }\n",
              "\n",
              "  .colab-df-quickchart {\n",
              "    background-color: var(--bg-color);\n",
              "    border: none;\n",
              "    border-radius: 50%;\n",
              "    cursor: pointer;\n",
              "    display: none;\n",
              "    fill: var(--fill-color);\n",
              "    height: 32px;\n",
              "    padding: 0;\n",
              "    width: 32px;\n",
              "  }\n",
              "\n",
              "  .colab-df-quickchart:hover {\n",
              "    background-color: var(--hover-bg-color);\n",
              "    box-shadow: 0 1px 2px rgba(60, 64, 67, 0.3), 0 1px 3px 1px rgba(60, 64, 67, 0.15);\n",
              "    fill: var(--button-hover-fill-color);\n",
              "  }\n",
              "\n",
              "  .colab-df-quickchart-complete:disabled,\n",
              "  .colab-df-quickchart-complete:disabled:hover {\n",
              "    background-color: var(--disabled-bg-color);\n",
              "    fill: var(--disabled-fill-color);\n",
              "    box-shadow: none;\n",
              "  }\n",
              "\n",
              "  .colab-df-spinner {\n",
              "    border: 2px solid var(--fill-color);\n",
              "    border-color: transparent;\n",
              "    border-bottom-color: var(--fill-color);\n",
              "    animation:\n",
              "      spin 1s steps(1) infinite;\n",
              "  }\n",
              "\n",
              "  @keyframes spin {\n",
              "    0% {\n",
              "      border-color: transparent;\n",
              "      border-bottom-color: var(--fill-color);\n",
              "      border-left-color: var(--fill-color);\n",
              "    }\n",
              "    20% {\n",
              "      border-color: transparent;\n",
              "      border-left-color: var(--fill-color);\n",
              "      border-top-color: var(--fill-color);\n",
              "    }\n",
              "    30% {\n",
              "      border-color: transparent;\n",
              "      border-left-color: var(--fill-color);\n",
              "      border-top-color: var(--fill-color);\n",
              "      border-right-color: var(--fill-color);\n",
              "    }\n",
              "    40% {\n",
              "      border-color: transparent;\n",
              "      border-right-color: var(--fill-color);\n",
              "      border-top-color: var(--fill-color);\n",
              "    }\n",
              "    60% {\n",
              "      border-color: transparent;\n",
              "      border-right-color: var(--fill-color);\n",
              "    }\n",
              "    80% {\n",
              "      border-color: transparent;\n",
              "      border-right-color: var(--fill-color);\n",
              "      border-bottom-color: var(--fill-color);\n",
              "    }\n",
              "    90% {\n",
              "      border-color: transparent;\n",
              "      border-bottom-color: var(--fill-color);\n",
              "    }\n",
              "  }\n",
              "</style>\n",
              "\n",
              "  <script>\n",
              "    async function quickchart(key) {\n",
              "      const quickchartButtonEl =\n",
              "        document.querySelector('#' + key + ' button');\n",
              "      quickchartButtonEl.disabled = true;  // To prevent multiple clicks.\n",
              "      quickchartButtonEl.classList.add('colab-df-spinner');\n",
              "      try {\n",
              "        const charts = await google.colab.kernel.invokeFunction(\n",
              "            'suggestCharts', [key], {});\n",
              "      } catch (error) {\n",
              "        console.error('Error during call to suggestCharts:', error);\n",
              "      }\n",
              "      quickchartButtonEl.classList.remove('colab-df-spinner');\n",
              "      quickchartButtonEl.classList.add('colab-df-quickchart-complete');\n",
              "    }\n",
              "    (() => {\n",
              "      let quickchartButtonEl =\n",
              "        document.querySelector('#df-bdb885f6-c6d3-4ecc-aee9-c19002b00c70 button');\n",
              "      quickchartButtonEl.style.display =\n",
              "        google.colab.kernel.accessAllowed ? 'block' : 'none';\n",
              "    })();\n",
              "  </script>\n",
              "</div>\n",
              "    </div>\n",
              "  </div>\n"
            ]
          },
          "metadata": {},
          "execution_count": 6
        }
      ]
    },
    {
      "cell_type": "markdown",
      "id": "189e875b",
      "metadata": {
        "papermill": {
          "duration": 0.014025,
          "end_time": "2021-11-09T00:09:34.653996",
          "exception": false,
          "start_time": "2021-11-09T00:09:34.639971",
          "status": "completed"
        },
        "tags": [],
        "id": "189e875b"
      },
      "source": [
        "# Bag of Words\n",
        "Need to convert the text to a numeric representation for training the model. We will use one-hot encoding.\n",
        "\n",
        "Represent each document as a vector of term frequencies for each term in the vocabulary. The vocabulary is built from all the words in the collection of texts.\n",
        "\n",
        "For each document, count up how many times a term occurs, and place that count in the appropriate element of a vector.\n",
        "\n",
        "This is called the **bag of words** representation. You can see that documents with similar terms will have similar vectors. Vocabularies frequently have tens of thousands of terms, so these vectors can be very large.\n"
      ]
    },
    {
      "cell_type": "markdown",
      "id": "aa0524e6",
      "metadata": {
        "papermill": {
          "duration": 0.014086,
          "end_time": "2021-11-09T00:09:34.682511",
          "exception": false,
          "start_time": "2021-11-09T00:09:34.668425",
          "status": "completed"
        },
        "tags": [],
        "id": "aa0524e6"
      },
      "source": [
        "# Building a Bag of Words model"
      ]
    },
    {
      "cell_type": "code",
      "execution_count": null,
      "id": "90838993",
      "metadata": {
        "execution": {
          "iopub.execute_input": "2021-11-09T00:09:34.716593Z",
          "iopub.status.busy": "2021-11-09T00:09:34.715510Z",
          "iopub.status.idle": "2021-11-09T00:09:45.550712Z",
          "shell.execute_reply": "2021-11-09T00:09:45.551275Z"
        },
        "papermill": {
          "duration": 10.854553,
          "end_time": "2021-11-09T00:09:45.551451",
          "exception": false,
          "start_time": "2021-11-09T00:09:34.696898",
          "status": "completed"
        },
        "tags": [],
        "id": "90838993"
      },
      "outputs": [],
      "source": [
        "import spacy\n",
        "\n",
        "# Create an empty model\n",
        "nlp = spacy.blank(\"en\")\n",
        "\n",
        "# Add the TextCategorizer to the empty model\n",
        "textcat = nlp.add_pipe(\"textcat\")"
      ]
    },
    {
      "cell_type": "markdown",
      "id": "98ee3729",
      "metadata": {
        "papermill": {
          "duration": 0.014142,
          "end_time": "2021-11-09T00:09:45.580035",
          "exception": false,
          "start_time": "2021-11-09T00:09:45.565893",
          "status": "completed"
        },
        "tags": [],
        "id": "98ee3729"
      },
      "source": [
        "\"ham\" are the real messages, \"spam\" are the spam messages"
      ]
    },
    {
      "cell_type": "code",
      "execution_count": null,
      "id": "0e39a7b8",
      "metadata": {
        "execution": {
          "iopub.execute_input": "2021-11-09T00:09:45.612754Z",
          "iopub.status.busy": "2021-11-09T00:09:45.611772Z",
          "iopub.status.idle": "2021-11-09T00:09:45.618346Z",
          "shell.execute_reply": "2021-11-09T00:09:45.617836Z"
        },
        "papermill": {
          "duration": 0.024073,
          "end_time": "2021-11-09T00:09:45.618488",
          "exception": false,
          "start_time": "2021-11-09T00:09:45.594415",
          "status": "completed"
        },
        "tags": [],
        "id": "0e39a7b8",
        "outputId": "979e54d2-2178-41bf-9b8f-e510913ef4cc",
        "colab": {
          "base_uri": "https://localhost:8080/"
        }
      },
      "outputs": [
        {
          "output_type": "execute_result",
          "data": {
            "text/plain": [
              "1"
            ]
          },
          "metadata": {},
          "execution_count": 8
        }
      ],
      "source": [
        "# Add labels to text classifier\n",
        "textcat.add_label(\"ham\")\n",
        "textcat.add_label(\"spam\")"
      ]
    },
    {
      "cell_type": "markdown",
      "id": "24901c08",
      "metadata": {
        "papermill": {
          "duration": 0.014595,
          "end_time": "2021-11-09T00:09:45.647983",
          "exception": false,
          "start_time": "2021-11-09T00:09:45.633388",
          "status": "completed"
        },
        "tags": [],
        "id": "24901c08"
      },
      "source": [
        "# Training a Text Categorizer Model\n",
        "\n",
        "Convert labels in the data to the form TextCategorizer requires. For each document, create a dictionary of boolean values for each class.\n",
        "\n",
        "For example, if a text is \"ham\",  need a dictionary `{'ham': True, 'spam': False}`. The model is looking for these labels inside another dictionary with the key `'cats'`."
      ]
    },
    {
      "cell_type": "code",
      "source": [
        "from sklearn.model_selection import train_test_split\n",
        "\n",
        "train, test = train_test_split(df, test_size=0.2)"
      ],
      "metadata": {
        "id": "ij8rK0StSUUi"
      },
      "id": "ij8rK0StSUUi",
      "execution_count": null,
      "outputs": []
    },
    {
      "cell_type": "code",
      "execution_count": null,
      "id": "46883d1c",
      "metadata": {
        "execution": {
          "iopub.execute_input": "2021-11-09T00:09:45.681531Z",
          "iopub.status.busy": "2021-11-09T00:09:45.680520Z",
          "iopub.status.idle": "2021-11-09T00:09:45.694989Z",
          "shell.execute_reply": "2021-11-09T00:09:45.695575Z"
        },
        "papermill": {
          "duration": 0.032987,
          "end_time": "2021-11-09T00:09:45.695749",
          "exception": false,
          "start_time": "2021-11-09T00:09:45.662762",
          "status": "completed"
        },
        "tags": [],
        "id": "46883d1c"
      },
      "outputs": [],
      "source": [
        "train_texts = train['text'].values\n",
        "train_labels = [{'cats': {'ham': label == 'ham',\n",
        "                          'spam': label == 'spam'}}\n",
        "                for label in train['label']]"
      ]
    },
    {
      "cell_type": "code",
      "source": [
        "test_texts = test['text'].values\n",
        "test_labels = [{'cats': {'ham': label == 'ham',\n",
        "                          'spam': label == 'spam'}}\n",
        "                for label in test['label']]"
      ],
      "metadata": {
        "id": "P1SrUEcuShGW"
      },
      "id": "P1SrUEcuShGW",
      "execution_count": null,
      "outputs": []
    },
    {
      "cell_type": "markdown",
      "id": "02f85189",
      "metadata": {
        "papermill": {
          "duration": 0.015048,
          "end_time": "2021-11-09T00:09:45.726731",
          "exception": false,
          "start_time": "2021-11-09T00:09:45.711683",
          "status": "completed"
        },
        "tags": [],
        "id": "02f85189"
      },
      "source": [
        "combine texts and labels into a single list."
      ]
    },
    {
      "cell_type": "code",
      "execution_count": null,
      "id": "8a61ff76",
      "metadata": {
        "execution": {
          "iopub.execute_input": "2021-11-09T00:09:45.762339Z",
          "iopub.status.busy": "2021-11-09T00:09:45.761084Z",
          "iopub.status.idle": "2021-11-09T00:09:45.770293Z",
          "shell.execute_reply": "2021-11-09T00:09:45.770879Z"
        },
        "papermill": {
          "duration": 0.028358,
          "end_time": "2021-11-09T00:09:45.771058",
          "exception": false,
          "start_time": "2021-11-09T00:09:45.742700",
          "status": "completed"
        },
        "tags": [],
        "id": "8a61ff76",
        "outputId": "b57f3055-1526-4280-fb23-5bf8ce8f20f8",
        "colab": {
          "base_uri": "https://localhost:8080/"
        }
      },
      "outputs": [
        {
          "output_type": "execute_result",
          "data": {
            "text/plain": [
              "[('I am back. Bit long cos of accident on a30. Had to divert via wadebridge.I had a brilliant weekend thanks. Speak soon. Lots of love',\n",
              "  {'cats': {'ham': True, 'spam': False}}),\n",
              " ('Send his number and give reply tomorrow morning for why you said that to him like that ok',\n",
              "  {'cats': {'ham': True, 'spam': False}}),\n",
              " ('I plane to give on this month end.',\n",
              "  {'cats': {'ham': True, 'spam': False}})]"
            ]
          },
          "metadata": {},
          "execution_count": 12
        }
      ],
      "source": [
        "train_data = list(zip(train_texts, train_labels))\n",
        "test_data = list(zip(test_texts, test_labels))\n",
        "train_data[:3]"
      ]
    },
    {
      "cell_type": "code",
      "execution_count": null,
      "id": "7ec7db6e",
      "metadata": {
        "execution": {
          "iopub.execute_input": "2021-11-09T00:11:14.720779Z",
          "iopub.status.busy": "2021-11-09T00:11:14.720085Z",
          "iopub.status.idle": "2021-11-09T00:26:17.843137Z",
          "shell.execute_reply": "2021-11-09T00:26:17.843736Z"
        },
        "papermill": {
          "duration": 903.148076,
          "end_time": "2021-11-09T00:26:17.844005",
          "exception": false,
          "start_time": "2021-11-09T00:11:14.695929",
          "status": "completed"
        },
        "tags": [],
        "id": "7ec7db6e",
        "outputId": "e44592d7-e379-40ec-8ec6-6478ba629538",
        "colab": {
          "base_uri": "https://localhost:8080/"
        }
      },
      "outputs": [
        {
          "output_type": "stream",
          "name": "stdout",
          "text": [
            "{'textcat': 112.99413429593315}\n",
            "{'textcat': 158.52474269200502}\n",
            "{'textcat': 193.5281401422562}\n",
            "{'textcat': 212.13300989462863}\n",
            "{'textcat': 221.92547100907927}\n",
            "{'textcat': 239.61541233722835}\n",
            "{'textcat': 246.24175934331896}\n",
            "{'textcat': 257.8329995143858}\n",
            "{'textcat': 265.7874583459801}\n",
            "{'textcat': 269.3901511161076}\n"
          ]
        }
      ],
      "source": [
        "random.seed(1)\n",
        "spacy.util.fix_random_seed(1)\n",
        "optimizer = nlp.begin_training()\n",
        "\n",
        "losses = {}\n",
        "for epoch in range(10):\n",
        "    random.shuffle(train_data)\n",
        "    # Create the batch generator with batch size = 8\n",
        "    batches = minibatch(train_data, size=8)\n",
        "    # Iterate through minibatches\n",
        "    for batch in batches:\n",
        "        for text, labels in batch:\n",
        "            doc = nlp.make_doc(text)\n",
        "            example = Example.from_dict(doc, labels)\n",
        "            nlp.update([example], sgd=optimizer, losses=losses)\n",
        "    print(losses)"
      ]
    },
    {
      "cell_type": "markdown",
      "id": "ef091b25",
      "metadata": {
        "papermill": {
          "duration": 0.020821,
          "end_time": "2021-11-09T00:26:17.885009",
          "exception": false,
          "start_time": "2021-11-09T00:26:17.864188",
          "status": "completed"
        },
        "tags": [],
        "id": "ef091b25"
      },
      "source": [
        "# Making Predictions"
      ]
    },
    {
      "cell_type": "markdown",
      "id": "79ef02ef",
      "metadata": {
        "papermill": {
          "duration": 0.019895,
          "end_time": "2021-11-09T00:26:17.925196",
          "exception": false,
          "start_time": "2021-11-09T00:26:17.905301",
          "status": "completed"
        },
        "tags": [],
        "id": "79ef02ef"
      },
      "source": [
        "To make prediction input text needs to be tokenized with `nlp.tokenizer`. Pass tokens to predict method. Output is probability of either 'ham' or 'spam'."
      ]
    },
    {
      "cell_type": "code",
      "execution_count": null,
      "id": "8de07adf",
      "metadata": {
        "execution": {
          "iopub.execute_input": "2021-11-09T00:26:17.980097Z",
          "iopub.status.busy": "2021-11-09T00:26:17.978749Z",
          "iopub.status.idle": "2021-11-09T00:26:17.986467Z",
          "shell.execute_reply": "2021-11-09T00:26:17.987089Z"
        },
        "papermill": {
          "duration": 0.041248,
          "end_time": "2021-11-09T00:26:17.987261",
          "exception": false,
          "start_time": "2021-11-09T00:26:17.946013",
          "status": "completed"
        },
        "tags": [],
        "id": "8de07adf",
        "outputId": "3e0ad762-e5ca-4023-8a6b-27ad81bbaf3d",
        "colab": {
          "base_uri": "https://localhost:8080/"
        }
      },
      "outputs": [
        {
          "output_type": "stream",
          "name": "stdout",
          "text": [
            "[[9.9988163e-01 1.1837344e-04]\n",
            " [3.0185128e-04 9.9969816e-01]]\n"
          ]
        }
      ],
      "source": [
        "texts = [\"Are you ready for the tea party????? It's gonna be wild\",\n",
        "         \"URGENT Reply to this message for GUARANTEED FREE TEA\" ]\n",
        "docs = [nlp.tokenizer(text) for text in texts]\n",
        "\n",
        "# Use textcat to get the scores for each doc\n",
        "textcat = nlp.get_pipe('textcat')\n",
        "scores = textcat.predict(docs)\n",
        "\n",
        "print(scores)"
      ]
    },
    {
      "cell_type": "code",
      "execution_count": null,
      "id": "4a4fac77",
      "metadata": {
        "execution": {
          "iopub.execute_input": "2021-11-09T00:26:18.073895Z",
          "iopub.status.busy": "2021-11-09T00:26:18.072935Z",
          "iopub.status.idle": "2021-11-09T00:26:18.078477Z",
          "shell.execute_reply": "2021-11-09T00:26:18.079026Z"
        },
        "papermill": {
          "duration": 0.029632,
          "end_time": "2021-11-09T00:26:18.079196",
          "exception": false,
          "start_time": "2021-11-09T00:26:18.049564",
          "status": "completed"
        },
        "tags": [],
        "id": "4a4fac77",
        "outputId": "bfd205c3-4c18-4b85-d64e-9081397e1f0f",
        "colab": {
          "base_uri": "https://localhost:8080/"
        }
      },
      "outputs": [
        {
          "output_type": "stream",
          "name": "stdout",
          "text": [
            "['ham', 'spam']\n"
          ]
        }
      ],
      "source": [
        "# From the scores, find the label with the highest score/probability\n",
        "predicted_labels = scores.argmax(axis=1)\n",
        "print([textcat.labels[label] for label in predicted_labels])"
      ]
    },
    {
      "cell_type": "code",
      "source": [
        "# Testing set predictions\n",
        "random.shuffle(test_data)\n",
        "docs = [nlp.tokenizer(text) for text in test_texts]\n",
        "\n",
        "# Use textcat to get the scores for each doc\n",
        "textcat = nlp.get_pipe('textcat')\n",
        "predictions = textcat.predict(docs)"
      ],
      "metadata": {
        "id": "l2Na9z5ITIsd"
      },
      "id": "l2Na9z5ITIsd",
      "execution_count": null,
      "outputs": []
    },
    {
      "cell_type": "code",
      "source": [
        "predicted_labels = predictions.argmax(axis=1)"
      ],
      "metadata": {
        "id": "WLjI4-3vXv2h"
      },
      "id": "WLjI4-3vXv2h",
      "execution_count": null,
      "outputs": []
    },
    {
      "cell_type": "code",
      "source": [
        "test_preds = [textcat.labels[label] for label in predicted_labels]"
      ],
      "metadata": {
        "id": "mtFyiqwwX0av"
      },
      "id": "mtFyiqwwX0av",
      "execution_count": null,
      "outputs": []
    },
    {
      "cell_type": "code",
      "source": [
        "print(f\"Majority class 'ham' makes up {(test['label'] == 'ham').sum() / len(test):.2%} of the dataset\")"
      ],
      "metadata": {
        "colab": {
          "base_uri": "https://localhost:8080/"
        },
        "id": "t57RRuQFZTFq",
        "outputId": "9db3f593-078b-43cc-e630-f63fd7a6eaae"
      },
      "id": "t57RRuQFZTFq",
      "execution_count": null,
      "outputs": [
        {
          "output_type": "stream",
          "name": "stdout",
          "text": [
            "Majority class 'ham' makes up 85.29% of the dataset\n"
          ]
        }
      ]
    },
    {
      "cell_type": "code",
      "source": [
        "print(f\"Total accuracy on test set: {(test_preds == test['label']).sum() / len(test):.2%}\")"
      ],
      "metadata": {
        "colab": {
          "base_uri": "https://localhost:8080/"
        },
        "id": "LwQ-RAtPYp6g",
        "outputId": "5b55c863-12c0-433c-bf68-183ca1898c06"
      },
      "id": "LwQ-RAtPYp6g",
      "execution_count": null,
      "outputs": [
        {
          "output_type": "stream",
          "name": "stdout",
          "text": [
            "Total accuracy on test set: 98.12%\n"
          ]
        }
      ]
    },
    {
      "cell_type": "code",
      "source": [
        "print(f\"Accuracy on minority class 'spam': {(test.loc[test_preds == test['label']]['label'] == 'spam').sum() / (test['label'] == 'spam').sum():.2%}\")"
      ],
      "metadata": {
        "colab": {
          "base_uri": "https://localhost:8080/"
        },
        "id": "8wL4ODC8Zk9_",
        "outputId": "17468d1f-591e-4813-ca53-88db8244f47a"
      },
      "id": "8wL4ODC8Zk9_",
      "execution_count": null,
      "outputs": [
        {
          "output_type": "stream",
          "name": "stdout",
          "text": [
            "Accuracy on minority class 'spam': 89.02%\n"
          ]
        }
      ]
    },
    {
      "cell_type": "markdown",
      "source": [
        "# Next Steps"
      ],
      "metadata": {
        "id": "_MolpvHWqmAm"
      },
      "id": "_MolpvHWqmAm"
    },
    {
      "cell_type": "markdown",
      "source": [
        "Sentiment Analysis"
      ],
      "metadata": {
        "id": "SHXB7IjvqqvN"
      },
      "id": "SHXB7IjvqqvN"
    },
    {
      "cell_type": "markdown",
      "source": [
        "Transaction Analysis"
      ],
      "metadata": {
        "id": "9ZYxtvRRqvJE"
      },
      "id": "9ZYxtvRRqvJE"
    }
  ],
  "metadata": {
    "kernelspec": {
      "display_name": "Python 3",
      "language": "python",
      "name": "python3"
    },
    "language_info": {
      "codemirror_mode": {
        "name": "ipython",
        "version": 3
      },
      "file_extension": ".py",
      "mimetype": "text/x-python",
      "name": "python",
      "nbconvert_exporter": "python",
      "pygments_lexer": "ipython3",
      "version": "3.7.10"
    },
    "papermill": {
      "default_parameters": {},
      "duration": 1017.28692,
      "end_time": "2021-11-09T00:26:21.794560",
      "environment_variables": {},
      "exception": null,
      "input_path": "__notebook__.ipynb",
      "output_path": "__notebook__.ipynb",
      "parameters": {},
      "start_time": "2021-11-09T00:09:24.507640",
      "version": "2.3.3"
    },
    "colab": {
      "provenance": [],
      "collapsed_sections": [
        "MSL60PjDcXGg",
        "c604170a",
        "aa0524e6",
        "24901c08",
        "ef091b25"
      ]
    }
  },
  "nbformat": 4,
  "nbformat_minor": 5
}